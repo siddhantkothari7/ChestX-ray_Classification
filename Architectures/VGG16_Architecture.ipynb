{
  "nbformat": 4,
  "nbformat_minor": 0,
  "metadata": {
    "colab": {
      "name": "ChestX-Ray_Classification-VGG16_Architecture.ipynb",
      "provenance": [],
      "collapsed_sections": []
    },
    "kernelspec": {
      "name": "python3",
      "display_name": "Python 3"
    },
    "language_info": {
      "name": "python"
    },
    "accelerator": "GPU",
    "gpuClass": "standard"
  },
  "cells": [
    {
      "cell_type": "markdown",
      "source": [
        "### Data\n",
        "\n",
        "Please download the data using the following link: [COVID-19](https://drive.google.com/file/d/1Y88tgqpQ1Pjko_7rntcPowOJs_QNOrJ-/view). \n",
        "\n",
        "After downloading 'Covid_Data_GradientCrescent.zip', unzip the file and you should see the following data structure:\n",
        "\n",
        "\n",
        "|--all<br>\n",
        "|--------train<br>\n",
        "|--------test<br>\n",
        "|--two<br>\n",
        "|--------train<br>\n",
        "|--------test<br>\n",
        "\n",
        "\n",
        "Put the 'all' folder, the 'two' folder and this python notebook in the **same directory** so that the following code can correctly locate the data.  "
      ],
      "metadata": {
        "id": "KYOYKxAc-Zbu"
      }
    },
    {
      "cell_type": "code",
      "source": [
        "from google.colab import drive\n",
        "drive.mount('/content/drive/')"
      ],
      "metadata": {
        "colab": {
          "base_uri": "https://localhost:8080/"
        },
        "id": "-2rMMCiB-Uvf",
        "outputId": "1633d71b-5d0b-4600-c542-7e5642beb9fc"
      },
      "execution_count": 33,
      "outputs": [
        {
          "output_type": "stream",
          "name": "stdout",
          "text": [
            "Drive already mounted at /content/drive/; to attempt to forcibly remount, call drive.mount(\"/content/drive/\", force_remount=True).\n"
          ]
        }
      ]
    },
    {
      "cell_type": "markdown",
      "source": [
        "## Multi-class Classification"
      ],
      "metadata": {
        "id": "LYY8y2XB-_uJ"
      }
    },
    {
      "cell_type": "markdown",
      "source": [
        "#### Importing Required Libraries:"
      ],
      "metadata": {
        "id": "toISqP7o_JSC"
      }
    },
    {
      "cell_type": "code",
      "source": [
        "import os\n",
        "import tensorflow as tf\n",
        "import numpy as np\n",
        "import matplotlib.pyplot as plt\n",
        "from tensorflow.keras.preprocessing.image import ImageDataGenerator\n",
        "\n",
        "#os.environ['OMP_NUM_THREADS'] = '1'\n",
        "#os.environ['CUDA_VISIBLE_DEVICES'] = '-1'\n",
        "tf.__version__"
      ],
      "metadata": {
        "colab": {
          "base_uri": "https://localhost:8080/",
          "height": 35
        },
        "id": "66w7bBQS_CAc",
        "outputId": "2a35590b-4b09-40ca-b823-919125af4580"
      },
      "execution_count": 34,
      "outputs": [
        {
          "output_type": "execute_result",
          "data": {
            "text/plain": [
              "'2.8.2'"
            ],
            "application/vnd.google.colaboratory.intrinsic+json": {
              "type": "string"
            }
          },
          "metadata": {},
          "execution_count": 34
        }
      ]
    },
    {
      "cell_type": "markdown",
      "source": [
        "#### Load Image Data:"
      ],
      "metadata": {
        "id": "epoFxfPs_Xg-"
      }
    },
    {
      "cell_type": "code",
      "source": [
        "DATA_LIST = os.listdir('drive/MyDrive/Covid_Data_GradientCrescent/all/train')\n",
        "DATASET_PATH  = 'drive/MyDrive/Covid_Data_GradientCrescent/all/train'\n",
        "TEST_DIR =  'drive/MyDrive/Covid_Data_GradientCrescent/all/test'\n",
        "IMAGE_SIZE    = (224, 224)\n",
        "NUM_CLASSES   = len(DATA_LIST)\n",
        "BATCH_SIZE    = 10  # try reducing batch size or freeze more layers if your GPU runs out of memory\n",
        "NUM_EPOCHS    = 100\n",
        "LEARNING_RATE = 0.0001 # start off with high rate first 0.001 and experiment with reducing it gradually "
      ],
      "metadata": {
        "id": "YeuEbXx-_O7h"
      },
      "execution_count": 35,
      "outputs": []
    },
    {
      "cell_type": "markdown",
      "source": [
        "#### Generate Training and Validation Batches:"
      ],
      "metadata": {
        "id": "kERqW8Bt_eZz"
      }
    },
    {
      "cell_type": "code",
      "source": [
        "train_datagen = ImageDataGenerator(rescale=1./255,rotation_range=50,featurewise_center = True,\n",
        "                                   featurewise_std_normalization = True,width_shift_range=0.2,\n",
        "                                   height_shift_range=0.2,shear_range=0.25,zoom_range=0.1,\n",
        "                                   zca_whitening = True,channel_shift_range = 20,\n",
        "                                   horizontal_flip = True,vertical_flip = True,\n",
        "                                   validation_split = 0.2,fill_mode='constant')\n",
        "\n",
        "\n",
        "train_batches = train_datagen.flow_from_directory(DATASET_PATH,target_size=IMAGE_SIZE,\n",
        "                                                  shuffle=True,batch_size=BATCH_SIZE,\n",
        "                                                  subset = \"training\",seed=42,\n",
        "                                                  class_mode=\"categorical\")\n",
        "\n",
        "valid_batches = train_datagen.flow_from_directory(DATASET_PATH,target_size=IMAGE_SIZE,\n",
        "                                                  shuffle=True,batch_size=BATCH_SIZE,\n",
        "                                                  subset = \"validation\",\n",
        "                                                  seed=42,class_mode=\"categorical\")"
      ],
      "metadata": {
        "colab": {
          "base_uri": "https://localhost:8080/"
        },
        "id": "fRTZrMZ3_S6s",
        "outputId": "31901e72-703d-404e-afec-24d70d60059c"
      },
      "execution_count": 36,
      "outputs": [
        {
          "output_type": "stream",
          "name": "stdout",
          "text": [
            "Found 216 images belonging to 4 classes.\n",
            "Found 54 images belonging to 4 classes.\n"
          ]
        },
        {
          "output_type": "stream",
          "name": "stderr",
          "text": [
            "/usr/local/lib/python3.7/dist-packages/keras_preprocessing/image/image_data_generator.py:342: UserWarning: This ImageDataGenerator specifies `zca_whitening` which overrides setting of`featurewise_std_normalization`.\n",
            "  warnings.warn('This ImageDataGenerator specifies '\n"
          ]
        }
      ]
    },
    {
      "cell_type": "markdown",
      "source": [
        "# **Architecture 1: VGG16**"
      ],
      "metadata": {
        "id": "aZOM6BtX_sa_"
      }
    },
    {
      "cell_type": "markdown",
      "source": [
        "#### Build Model"
      ],
      "metadata": {
        "id": "Yw6uB9H-_wWw"
      }
    },
    {
      "cell_type": "code",
      "source": [
        "from keras.applications.vgg16 import VGG16\n",
        "from tensorflow.keras import datasets, layers, models\n",
        "from keras.models import Model, Sequential\n",
        "\n",
        "vgg16_model = tf.keras.applications.vgg16.VGG16(\n",
        "    include_top=True,\n",
        "    weights='imagenet',\n",
        "    input_tensor=None,\n",
        "    input_shape=None,\n",
        "    pooling=None,\n",
        "    classes=1000,\n",
        "    classifier_activation='softmax'\n",
        ")\n",
        "model = Sequential()\n",
        "for layer in vgg16_model.layers[:-4]:\n",
        "    model.add(layer)\n",
        "for layer in model.layers:\n",
        "    layer.trainable = False\n",
        "\n",
        "model.add(layers.Flatten())\n",
        "model.add(layers.Dense(512, activation='relu'))\n",
        "model.add(layers.Dense(256, activation='relu'))\n",
        "model.add(layers.Dense(4, activation='softmax'))\n",
        "\n",
        "model.summary()\n",
        "\n",
        "model.compile(optimizer='adam',\n",
        "                loss=tf.keras.losses.CategoricalCrossentropy(),\n",
        "                metrics=['accuracy'])"
      ],
      "metadata": {
        "colab": {
          "base_uri": "https://localhost:8080/"
        },
        "id": "9YcZwo-a_Wm7",
        "outputId": "458d60d3-71ad-4051-a7cc-7ca1bdb88e2a"
      },
      "execution_count": 37,
      "outputs": [
        {
          "output_type": "stream",
          "name": "stdout",
          "text": [
            "Model: \"sequential_1\"\n",
            "_________________________________________________________________\n",
            " Layer (type)                Output Shape              Param #   \n",
            "=================================================================\n",
            " block1_conv1 (Conv2D)       (None, 224, 224, 64)      1792      \n",
            "                                                                 \n",
            " block1_conv2 (Conv2D)       (None, 224, 224, 64)      36928     \n",
            "                                                                 \n",
            " block1_pool (MaxPooling2D)  (None, 112, 112, 64)      0         \n",
            "                                                                 \n",
            " block2_conv1 (Conv2D)       (None, 112, 112, 128)     73856     \n",
            "                                                                 \n",
            " block2_conv2 (Conv2D)       (None, 112, 112, 128)     147584    \n",
            "                                                                 \n",
            " block2_pool (MaxPooling2D)  (None, 56, 56, 128)       0         \n",
            "                                                                 \n",
            " block3_conv1 (Conv2D)       (None, 56, 56, 256)       295168    \n",
            "                                                                 \n",
            " block3_conv2 (Conv2D)       (None, 56, 56, 256)       590080    \n",
            "                                                                 \n",
            " block3_conv3 (Conv2D)       (None, 56, 56, 256)       590080    \n",
            "                                                                 \n",
            " block3_pool (MaxPooling2D)  (None, 28, 28, 256)       0         \n",
            "                                                                 \n",
            " block4_conv1 (Conv2D)       (None, 28, 28, 512)       1180160   \n",
            "                                                                 \n",
            " block4_conv2 (Conv2D)       (None, 28, 28, 512)       2359808   \n",
            "                                                                 \n",
            " block4_conv3 (Conv2D)       (None, 28, 28, 512)       2359808   \n",
            "                                                                 \n",
            " block4_pool (MaxPooling2D)  (None, 14, 14, 512)       0         \n",
            "                                                                 \n",
            " block5_conv1 (Conv2D)       (None, 14, 14, 512)       2359808   \n",
            "                                                                 \n",
            " block5_conv2 (Conv2D)       (None, 14, 14, 512)       2359808   \n",
            "                                                                 \n",
            " block5_conv3 (Conv2D)       (None, 14, 14, 512)       2359808   \n",
            "                                                                 \n",
            " block5_pool (MaxPooling2D)  (None, 7, 7, 512)         0         \n",
            "                                                                 \n",
            " flatten_1 (Flatten)         (None, 25088)             0         \n",
            "                                                                 \n",
            " dense_5 (Dense)             (None, 512)               12845568  \n",
            "                                                                 \n",
            " dense_6 (Dense)             (None, 256)               131328    \n",
            "                                                                 \n",
            " dense_7 (Dense)             (None, 4)                 1028      \n",
            "                                                                 \n",
            "=================================================================\n",
            "Total params: 27,692,612\n",
            "Trainable params: 12,977,924\n",
            "Non-trainable params: 14,714,688\n",
            "_________________________________________________________________\n"
          ]
        }
      ]
    },
    {
      "cell_type": "markdown",
      "source": [
        "#### Train Model"
      ],
      "metadata": {
        "id": "B8uhuVUVAKly"
      }
    },
    {
      "cell_type": "code",
      "source": [
        "#FIT MODEL\n",
        "print(len(train_batches))\n",
        "print(len(valid_batches))\n",
        "\n",
        "STEP_SIZE_TRAIN=train_batches.n//train_batches.batch_size\n",
        "STEP_SIZE_VALID=valid_batches.n//valid_batches.batch_size\n",
        "\n",
        "history = model.fit(x=train_batches, epochs=NUM_EPOCHS, steps_per_epoch=STEP_SIZE_TRAIN, \n",
        "           validation_data=valid_batches, validation_steps=STEP_SIZE_VALID)"
      ],
      "metadata": {
        "colab": {
          "base_uri": "https://localhost:8080/"
        },
        "id": "cGJmw4NxAJpf",
        "outputId": "a5179cbe-0eb3-4498-9174-56a069d0ed2e"
      },
      "execution_count": 38,
      "outputs": [
        {
          "output_type": "stream",
          "name": "stdout",
          "text": [
            "22\n",
            "6\n"
          ]
        },
        {
          "output_type": "stream",
          "name": "stderr",
          "text": [
            "/usr/local/lib/python3.7/dist-packages/keras_preprocessing/image/image_data_generator.py:720: UserWarning: This ImageDataGenerator specifies `featurewise_center`, but it hasn't been fit on any training data. Fit it first by calling `.fit(numpy_data)`.\n",
            "  warnings.warn('This ImageDataGenerator specifies '\n",
            "/usr/local/lib/python3.7/dist-packages/keras_preprocessing/image/image_data_generator.py:739: UserWarning: This ImageDataGenerator specifies `zca_whitening`, but it hasn't been fit on any training data. Fit it first by calling `.fit(numpy_data)`.\n",
            "  warnings.warn('This ImageDataGenerator specifies '\n"
          ]
        },
        {
          "output_type": "stream",
          "name": "stdout",
          "text": [
            "Epoch 1/100\n",
            "21/21 [==============================] - 9s 395ms/step - loss: 2.9119 - accuracy: 0.3204 - val_loss: 1.4073 - val_accuracy: 0.4000\n",
            "Epoch 2/100\n",
            "21/21 [==============================] - 9s 422ms/step - loss: 1.4734 - accuracy: 0.4951 - val_loss: 1.2133 - val_accuracy: 0.4600\n",
            "Epoch 3/100\n",
            "21/21 [==============================] - 8s 374ms/step - loss: 1.3317 - accuracy: 0.4272 - val_loss: 1.2757 - val_accuracy: 0.5000\n",
            "Epoch 4/100\n",
            "21/21 [==============================] - 8s 363ms/step - loss: 1.1383 - accuracy: 0.5049 - val_loss: 0.8776 - val_accuracy: 0.6200\n",
            "Epoch 5/100\n",
            "21/21 [==============================] - 8s 363ms/step - loss: 1.1197 - accuracy: 0.5340 - val_loss: 1.1050 - val_accuracy: 0.4400\n",
            "Epoch 6/100\n",
            "21/21 [==============================] - 8s 386ms/step - loss: 0.8678 - accuracy: 0.6796 - val_loss: 0.8470 - val_accuracy: 0.5800\n",
            "Epoch 7/100\n",
            "21/21 [==============================] - 9s 422ms/step - loss: 1.0159 - accuracy: 0.5583 - val_loss: 0.8856 - val_accuracy: 0.5800\n",
            "Epoch 8/100\n",
            "21/21 [==============================] - 8s 361ms/step - loss: 0.8500 - accuracy: 0.5825 - val_loss: 0.9381 - val_accuracy: 0.4800\n",
            "Epoch 9/100\n",
            "21/21 [==============================] - 8s 365ms/step - loss: 0.8513 - accuracy: 0.6117 - val_loss: 0.7455 - val_accuracy: 0.6200\n",
            "Epoch 10/100\n",
            "21/21 [==============================] - 8s 364ms/step - loss: 0.7628 - accuracy: 0.6359 - val_loss: 0.5889 - val_accuracy: 0.7600\n",
            "Epoch 11/100\n",
            "21/21 [==============================] - 8s 354ms/step - loss: 0.8031 - accuracy: 0.6311 - val_loss: 0.6711 - val_accuracy: 0.6600\n",
            "Epoch 12/100\n",
            "21/21 [==============================] - 9s 415ms/step - loss: 0.7085 - accuracy: 0.6748 - val_loss: 1.1312 - val_accuracy: 0.5200\n",
            "Epoch 13/100\n",
            "21/21 [==============================] - 8s 367ms/step - loss: 0.8186 - accuracy: 0.6456 - val_loss: 0.6029 - val_accuracy: 0.7200\n",
            "Epoch 14/100\n",
            "21/21 [==============================] - 8s 361ms/step - loss: 0.7938 - accuracy: 0.6262 - val_loss: 0.6950 - val_accuracy: 0.6000\n",
            "Epoch 15/100\n",
            "21/21 [==============================] - 8s 363ms/step - loss: 0.7384 - accuracy: 0.6602 - val_loss: 0.7310 - val_accuracy: 0.6600\n",
            "Epoch 16/100\n",
            "21/21 [==============================] - 8s 372ms/step - loss: 0.6657 - accuracy: 0.7330 - val_loss: 0.8216 - val_accuracy: 0.6400\n",
            "Epoch 17/100\n",
            "21/21 [==============================] - 8s 362ms/step - loss: 0.7486 - accuracy: 0.6699 - val_loss: 0.6329 - val_accuracy: 0.7200\n",
            "Epoch 18/100\n",
            "21/21 [==============================] - 8s 364ms/step - loss: 0.7258 - accuracy: 0.6456 - val_loss: 0.8580 - val_accuracy: 0.6000\n",
            "Epoch 19/100\n",
            "21/21 [==============================] - 8s 367ms/step - loss: 0.6997 - accuracy: 0.6796 - val_loss: 0.8692 - val_accuracy: 0.5600\n",
            "Epoch 20/100\n",
            "21/21 [==============================] - 8s 363ms/step - loss: 0.7830 - accuracy: 0.6408 - val_loss: 0.6254 - val_accuracy: 0.7400\n",
            "Epoch 21/100\n",
            "21/21 [==============================] - 8s 371ms/step - loss: 0.8642 - accuracy: 0.6311 - val_loss: 0.9769 - val_accuracy: 0.5600\n",
            "Epoch 22/100\n",
            "21/21 [==============================] - 8s 368ms/step - loss: 0.8520 - accuracy: 0.6381 - val_loss: 0.9181 - val_accuracy: 0.5200\n",
            "Epoch 23/100\n",
            "21/21 [==============================] - 9s 431ms/step - loss: 0.7000 - accuracy: 0.6699 - val_loss: 0.6013 - val_accuracy: 0.7200\n",
            "Epoch 24/100\n",
            "21/21 [==============================] - 8s 364ms/step - loss: 0.6564 - accuracy: 0.7136 - val_loss: 0.7708 - val_accuracy: 0.6400\n",
            "Epoch 25/100\n",
            "21/21 [==============================] - 8s 364ms/step - loss: 0.7284 - accuracy: 0.6893 - val_loss: 0.8323 - val_accuracy: 0.6400\n",
            "Epoch 26/100\n",
            "21/21 [==============================] - 8s 368ms/step - loss: 0.7813 - accuracy: 0.6165 - val_loss: 0.7288 - val_accuracy: 0.7000\n",
            "Epoch 27/100\n",
            "21/21 [==============================] - 8s 369ms/step - loss: 0.6604 - accuracy: 0.7184 - val_loss: 0.6868 - val_accuracy: 0.6800\n",
            "Epoch 28/100\n",
            "21/21 [==============================] - 8s 363ms/step - loss: 0.6310 - accuracy: 0.7184 - val_loss: 0.9210 - val_accuracy: 0.5600\n",
            "Epoch 29/100\n",
            "21/21 [==============================] - 8s 369ms/step - loss: 0.8530 - accuracy: 0.5971 - val_loss: 0.7730 - val_accuracy: 0.6600\n",
            "Epoch 30/100\n",
            "21/21 [==============================] - 8s 366ms/step - loss: 0.6459 - accuracy: 0.7427 - val_loss: 0.7841 - val_accuracy: 0.6000\n",
            "Epoch 31/100\n",
            "21/21 [==============================] - 8s 363ms/step - loss: 0.6596 - accuracy: 0.7330 - val_loss: 0.6806 - val_accuracy: 0.6800\n",
            "Epoch 32/100\n",
            "21/21 [==============================] - 8s 364ms/step - loss: 0.6541 - accuracy: 0.7136 - val_loss: 0.5613 - val_accuracy: 0.7400\n",
            "Epoch 33/100\n",
            "21/21 [==============================] - 8s 370ms/step - loss: 0.6313 - accuracy: 0.7143 - val_loss: 0.6981 - val_accuracy: 0.5200\n",
            "Epoch 34/100\n",
            "21/21 [==============================] - 9s 417ms/step - loss: 0.6129 - accuracy: 0.7427 - val_loss: 0.7138 - val_accuracy: 0.6800\n",
            "Epoch 35/100\n",
            "21/21 [==============================] - 9s 421ms/step - loss: 0.5843 - accuracy: 0.7524 - val_loss: 0.5914 - val_accuracy: 0.7400\n",
            "Epoch 36/100\n",
            "21/21 [==============================] - 8s 370ms/step - loss: 0.6217 - accuracy: 0.7184 - val_loss: 0.6595 - val_accuracy: 0.6200\n",
            "Epoch 37/100\n",
            "21/21 [==============================] - 8s 370ms/step - loss: 0.7921 - accuracy: 0.6553 - val_loss: 0.5827 - val_accuracy: 0.7200\n",
            "Epoch 38/100\n",
            "21/21 [==============================] - 8s 365ms/step - loss: 0.6136 - accuracy: 0.7136 - val_loss: 0.5358 - val_accuracy: 0.6800\n",
            "Epoch 39/100\n",
            "21/21 [==============================] - 8s 370ms/step - loss: 0.6683 - accuracy: 0.7282 - val_loss: 0.7926 - val_accuracy: 0.6200\n",
            "Epoch 40/100\n",
            "21/21 [==============================] - 8s 363ms/step - loss: 0.6298 - accuracy: 0.7238 - val_loss: 0.6523 - val_accuracy: 0.6800\n",
            "Epoch 41/100\n",
            "21/21 [==============================] - 8s 364ms/step - loss: 0.5885 - accuracy: 0.7718 - val_loss: 0.7905 - val_accuracy: 0.6400\n",
            "Epoch 42/100\n",
            "21/21 [==============================] - 8s 365ms/step - loss: 0.6386 - accuracy: 0.7136 - val_loss: 0.6815 - val_accuracy: 0.6800\n",
            "Epoch 43/100\n",
            "21/21 [==============================] - 8s 354ms/step - loss: 0.6619 - accuracy: 0.7087 - val_loss: 0.5894 - val_accuracy: 0.7000\n",
            "Epoch 44/100\n",
            "21/21 [==============================] - 8s 367ms/step - loss: 0.6113 - accuracy: 0.7427 - val_loss: 0.7858 - val_accuracy: 0.6600\n",
            "Epoch 45/100\n",
            "21/21 [==============================] - 9s 426ms/step - loss: 0.5516 - accuracy: 0.7767 - val_loss: 0.7055 - val_accuracy: 0.6000\n",
            "Epoch 46/100\n",
            "21/21 [==============================] - 8s 362ms/step - loss: 0.5299 - accuracy: 0.7476 - val_loss: 0.6958 - val_accuracy: 0.6800\n",
            "Epoch 47/100\n",
            "21/21 [==============================] - 8s 361ms/step - loss: 0.6722 - accuracy: 0.7039 - val_loss: 0.7957 - val_accuracy: 0.6400\n",
            "Epoch 48/100\n",
            "21/21 [==============================] - 8s 369ms/step - loss: 0.6125 - accuracy: 0.7379 - val_loss: 0.5278 - val_accuracy: 0.7200\n",
            "Epoch 49/100\n",
            "21/21 [==============================] - 9s 424ms/step - loss: 0.5384 - accuracy: 0.7476 - val_loss: 0.6154 - val_accuracy: 0.6800\n",
            "Epoch 50/100\n",
            "21/21 [==============================] - 9s 419ms/step - loss: 0.5682 - accuracy: 0.7621 - val_loss: 1.0257 - val_accuracy: 0.5200\n",
            "Epoch 51/100\n",
            "21/21 [==============================] - 8s 358ms/step - loss: 0.5548 - accuracy: 0.7913 - val_loss: 0.8770 - val_accuracy: 0.6000\n",
            "Epoch 52/100\n",
            "21/21 [==============================] - 8s 362ms/step - loss: 0.6216 - accuracy: 0.7621 - val_loss: 0.7705 - val_accuracy: 0.6200\n",
            "Epoch 53/100\n",
            "21/21 [==============================] - 8s 369ms/step - loss: 0.6471 - accuracy: 0.6990 - val_loss: 0.6739 - val_accuracy: 0.6200\n",
            "Epoch 54/100\n",
            "21/21 [==============================] - 8s 361ms/step - loss: 0.6074 - accuracy: 0.7282 - val_loss: 0.5108 - val_accuracy: 0.7800\n",
            "Epoch 55/100\n",
            "21/21 [==============================] - 8s 367ms/step - loss: 0.5149 - accuracy: 0.7961 - val_loss: 0.7551 - val_accuracy: 0.6800\n",
            "Epoch 56/100\n",
            "21/21 [==============================] - 8s 367ms/step - loss: 0.6330 - accuracy: 0.7190 - val_loss: 0.6990 - val_accuracy: 0.7400\n",
            "Epoch 57/100\n",
            "21/21 [==============================] - 8s 365ms/step - loss: 0.5758 - accuracy: 0.7524 - val_loss: 0.6111 - val_accuracy: 0.6600\n",
            "Epoch 58/100\n",
            "21/21 [==============================] - 8s 371ms/step - loss: 0.5736 - accuracy: 0.7573 - val_loss: 0.7147 - val_accuracy: 0.6400\n",
            "Epoch 59/100\n",
            "21/21 [==============================] - 8s 366ms/step - loss: 0.4603 - accuracy: 0.7670 - val_loss: 0.7064 - val_accuracy: 0.6400\n",
            "Epoch 60/100\n",
            "21/21 [==============================] - 8s 370ms/step - loss: 0.4941 - accuracy: 0.7621 - val_loss: 0.5079 - val_accuracy: 0.7600\n",
            "Epoch 61/100\n",
            "21/21 [==============================] - 8s 370ms/step - loss: 0.5127 - accuracy: 0.7816 - val_loss: 0.6280 - val_accuracy: 0.7400\n",
            "Epoch 62/100\n",
            "21/21 [==============================] - 8s 367ms/step - loss: 0.6370 - accuracy: 0.7621 - val_loss: 0.7019 - val_accuracy: 0.6400\n",
            "Epoch 63/100\n",
            "21/21 [==============================] - 7s 352ms/step - loss: 0.6291 - accuracy: 0.7184 - val_loss: 0.9764 - val_accuracy: 0.5600\n",
            "Epoch 64/100\n",
            "21/21 [==============================] - 8s 371ms/step - loss: 0.5976 - accuracy: 0.7379 - val_loss: 0.6771 - val_accuracy: 0.7200\n",
            "Epoch 65/100\n",
            "21/21 [==============================] - 9s 423ms/step - loss: 0.5397 - accuracy: 0.7621 - val_loss: 0.7123 - val_accuracy: 0.6600\n",
            "Epoch 66/100\n",
            "21/21 [==============================] - 8s 350ms/step - loss: 0.5570 - accuracy: 0.7427 - val_loss: 0.5783 - val_accuracy: 0.7600\n",
            "Epoch 67/100\n",
            "21/21 [==============================] - 8s 368ms/step - loss: 0.6015 - accuracy: 0.7718 - val_loss: 0.8838 - val_accuracy: 0.6000\n",
            "Epoch 68/100\n",
            "21/21 [==============================] - 8s 369ms/step - loss: 0.6158 - accuracy: 0.7427 - val_loss: 0.6932 - val_accuracy: 0.7000\n",
            "Epoch 69/100\n",
            "21/21 [==============================] - 8s 369ms/step - loss: 0.6527 - accuracy: 0.7233 - val_loss: 0.6465 - val_accuracy: 0.6600\n",
            "Epoch 70/100\n",
            "21/21 [==============================] - 8s 375ms/step - loss: 0.5968 - accuracy: 0.6942 - val_loss: 0.5942 - val_accuracy: 0.6600\n",
            "Epoch 71/100\n",
            "21/21 [==============================] - 8s 368ms/step - loss: 0.6388 - accuracy: 0.6942 - val_loss: 0.4785 - val_accuracy: 0.7800\n",
            "Epoch 72/100\n",
            "21/21 [==============================] - 8s 373ms/step - loss: 0.5552 - accuracy: 0.7816 - val_loss: 0.6983 - val_accuracy: 0.6200\n",
            "Epoch 73/100\n",
            "21/21 [==============================] - 8s 365ms/step - loss: 0.5383 - accuracy: 0.7427 - val_loss: 0.5733 - val_accuracy: 0.7000\n",
            "Epoch 74/100\n",
            "21/21 [==============================] - 8s 371ms/step - loss: 0.4910 - accuracy: 0.7913 - val_loss: 0.6727 - val_accuracy: 0.7000\n",
            "Epoch 75/100\n",
            "21/21 [==============================] - 8s 355ms/step - loss: 0.4993 - accuracy: 0.8010 - val_loss: 0.7458 - val_accuracy: 0.6000\n",
            "Epoch 76/100\n",
            "21/21 [==============================] - 9s 421ms/step - loss: 0.4963 - accuracy: 0.7816 - val_loss: 0.8160 - val_accuracy: 0.6800\n",
            "Epoch 77/100\n",
            "21/21 [==============================] - 8s 363ms/step - loss: 0.6071 - accuracy: 0.7330 - val_loss: 0.7564 - val_accuracy: 0.6800\n",
            "Epoch 78/100\n",
            "21/21 [==============================] - 8s 362ms/step - loss: 0.5821 - accuracy: 0.7816 - val_loss: 0.7731 - val_accuracy: 0.6000\n",
            "Epoch 79/100\n",
            "21/21 [==============================] - 8s 369ms/step - loss: 0.4592 - accuracy: 0.8155 - val_loss: 0.6278 - val_accuracy: 0.7800\n",
            "Epoch 80/100\n",
            "21/21 [==============================] - 8s 369ms/step - loss: 0.4361 - accuracy: 0.7961 - val_loss: 0.7399 - val_accuracy: 0.7200\n",
            "Epoch 81/100\n",
            "21/21 [==============================] - 8s 366ms/step - loss: 0.6046 - accuracy: 0.7233 - val_loss: 0.7038 - val_accuracy: 0.6600\n",
            "Epoch 82/100\n",
            "21/21 [==============================] - 8s 370ms/step - loss: 0.5273 - accuracy: 0.7864 - val_loss: 0.5578 - val_accuracy: 0.7200\n",
            "Epoch 83/100\n",
            "21/21 [==============================] - 8s 370ms/step - loss: 0.5046 - accuracy: 0.7767 - val_loss: 0.7101 - val_accuracy: 0.6800\n",
            "Epoch 84/100\n",
            "21/21 [==============================] - 8s 371ms/step - loss: 0.4565 - accuracy: 0.7961 - val_loss: 0.7533 - val_accuracy: 0.6400\n",
            "Epoch 85/100\n",
            "21/21 [==============================] - 8s 367ms/step - loss: 0.5731 - accuracy: 0.7524 - val_loss: 0.6555 - val_accuracy: 0.6200\n",
            "Epoch 86/100\n",
            "21/21 [==============================] - 8s 363ms/step - loss: 0.5354 - accuracy: 0.7670 - val_loss: 0.6159 - val_accuracy: 0.7000\n",
            "Epoch 87/100\n",
            "21/21 [==============================] - 9s 418ms/step - loss: 0.4881 - accuracy: 0.7913 - val_loss: 0.7140 - val_accuracy: 0.6000\n",
            "Epoch 88/100\n",
            "21/21 [==============================] - 8s 357ms/step - loss: 0.5402 - accuracy: 0.7476 - val_loss: 0.6102 - val_accuracy: 0.7200\n",
            "Epoch 89/100\n",
            "21/21 [==============================] - 8s 371ms/step - loss: 0.5610 - accuracy: 0.7573 - val_loss: 0.6550 - val_accuracy: 0.6800\n",
            "Epoch 90/100\n",
            "21/21 [==============================] - 8s 363ms/step - loss: 0.5236 - accuracy: 0.7524 - val_loss: 0.7531 - val_accuracy: 0.6400\n",
            "Epoch 91/100\n",
            "21/21 [==============================] - 8s 366ms/step - loss: 0.5253 - accuracy: 0.7816 - val_loss: 0.6490 - val_accuracy: 0.7400\n",
            "Epoch 92/100\n",
            "21/21 [==============================] - 8s 376ms/step - loss: 0.4445 - accuracy: 0.8252 - val_loss: 0.8554 - val_accuracy: 0.6000\n",
            "Epoch 93/100\n",
            "21/21 [==============================] - 8s 357ms/step - loss: 0.4751 - accuracy: 0.8010 - val_loss: 0.5202 - val_accuracy: 0.7600\n",
            "Epoch 94/100\n",
            "21/21 [==============================] - 8s 357ms/step - loss: 0.4574 - accuracy: 0.7913 - val_loss: 0.5593 - val_accuracy: 0.7600\n",
            "Epoch 95/100\n",
            "21/21 [==============================] - 8s 363ms/step - loss: 0.5189 - accuracy: 0.8107 - val_loss: 0.8208 - val_accuracy: 0.6400\n",
            "Epoch 96/100\n",
            "21/21 [==============================] - 8s 361ms/step - loss: 0.5996 - accuracy: 0.7087 - val_loss: 0.5813 - val_accuracy: 0.7200\n",
            "Epoch 97/100\n",
            "21/21 [==============================] - 8s 366ms/step - loss: 0.5563 - accuracy: 0.7476 - val_loss: 0.6680 - val_accuracy: 0.6800\n",
            "Epoch 98/100\n",
            "21/21 [==============================] - 9s 421ms/step - loss: 0.6016 - accuracy: 0.7621 - val_loss: 0.6027 - val_accuracy: 0.7000\n",
            "Epoch 99/100\n",
            "21/21 [==============================] - 8s 365ms/step - loss: 0.5357 - accuracy: 0.7767 - val_loss: 0.7988 - val_accuracy: 0.6400\n",
            "Epoch 100/100\n",
            "21/21 [==============================] - 8s 369ms/step - loss: 0.4873 - accuracy: 0.7670 - val_loss: 0.5915 - val_accuracy: 0.7200\n"
          ]
        }
      ]
    },
    {
      "cell_type": "markdown",
      "source": [
        "#### Plot Accuracy and Loss During Training"
      ],
      "metadata": {
        "id": "7dYBspvyBAE5"
      }
    },
    {
      "cell_type": "code",
      "source": [
        "import matplotlib.pyplot as plt\n",
        "\n",
        "plt.plot(history.history['accuracy'], label='training accuracy')\n",
        "plt.plot(history.history['val_accuracy'], label = 'validation accuracy')\n",
        "plt.xlabel('Epoch')\n",
        "plt.ylabel('Accuracy')\n",
        "plt.title(\"Accuracy over 100 Epochs\")\n",
        "plt.legend(loc='lower right')"
      ],
      "metadata": {
        "colab": {
          "base_uri": "https://localhost:8080/",
          "height": 312
        },
        "id": "ZgGq3Tu4BBrN",
        "outputId": "a383b989-0236-4803-a713-dfcd64f536dd"
      },
      "execution_count": 39,
      "outputs": [
        {
          "output_type": "execute_result",
          "data": {
            "text/plain": [
              "<matplotlib.legend.Legend at 0x7f42d62e4690>"
            ]
          },
          "metadata": {},
          "execution_count": 39
        },
        {
          "output_type": "display_data",
          "data": {
            "text/plain": [
              "<Figure size 432x288 with 1 Axes>"
            ],
            "image/png": "[encoded data removed]"
          },
          "metadata": {
            "needs_background": "light"
          }
        }
      ]
    },
    {
      "cell_type": "code",
      "source": [
        "plt.plot(history.history['loss'], label='loss')\n",
        "plt.plot(history.history['val_loss'], label = 'validation loss')\n",
        "plt.xlabel('Epoch')\n",
        "plt.ylabel('Accuracy')\n",
        "plt.title(\"Loss over 100 Epochs\")\n",
        "plt.ylim((0,1.25))\n",
        "plt.grid()\n",
        "plt.legend(loc='upper right')"
      ],
      "metadata": {
        "colab": {
          "base_uri": "https://localhost:8080/",
          "height": 312
        },
        "id": "_NrJGYGYQmqB",
        "outputId": "d69849df-4ac2-4070-9b1a-73bb0b3e37e9"
      },
      "execution_count": 40,
      "outputs": [
        {
          "output_type": "execute_result",
          "data": {
            "text/plain": [
              "<matplotlib.legend.Legend at 0x7f42d61a6d90>"
            ]
          },
          "metadata": {},
          "execution_count": 40
        },
        {
          "output_type": "display_data",
          "data": {
            "text/plain": [
              "<Figure size 432x288 with 1 Axes>"
            ],
            "image/png": "[encoded data removed]"
          },
          "metadata": {
            "needs_background": "light"
          }
        }
      ]
    },
    {
      "cell_type": "code",
      "source": [
        "test_datagen = ImageDataGenerator(rescale=1. / 255)\n",
        "\n",
        "eval_generator = test_datagen.flow_from_directory(TEST_DIR,target_size=IMAGE_SIZE,\n",
        "                                                  batch_size=1,shuffle=True,seed=42,class_mode=\"categorical\")\n",
        "eval_generator.reset()\n",
        "print(len(eval_generator))\n",
        "x = model.evaluate(eval_generator,steps = np.ceil(len(eval_generator)),\n",
        "                           use_multiprocessing = False,verbose = 1,workers=1)\n",
        "print('Test loss:' , x[0])\n",
        "print('Test accuracy:',x[1])"
      ],
      "metadata": {
        "colab": {
          "base_uri": "https://localhost:8080/"
        },
        "id": "dlNEeoC3QrzC",
        "outputId": "fb930aaf-7552-49db-86cc-abb44299ebcd"
      },
      "execution_count": 41,
      "outputs": [
        {
          "output_type": "stream",
          "name": "stdout",
          "text": [
            "Found 36 images belonging to 4 classes.\n",
            "36\n",
            "36/36 [==============================] - 1s 26ms/step - loss: 0.9803 - accuracy: 0.6111\n",
            "Test loss: 0.9803378582000732\n",
            "Test accuracy: 0.6111111044883728\n"
          ]
        }
      ]
    },
    {
      "cell_type": "markdown",
      "source": [
        "## TSNE Plot\n",
        "t-Distributed Stochastic Neighbor Embedding (t-SNE) is a widely used technique for dimensionality reduction that is particularly well suited for the visualization of high-dimensional datasets. After training is complete, extract features from a specific deep layer of your choice, use t-SNE to reduce the dimensionality of your extracted features to 2 dimensions and plot the resulting 2D features."
      ],
      "metadata": {
        "id": "lp-F0yPnQ2Mu"
      }
    },
    {
      "cell_type": "code",
      "source": [
        "from sklearn.manifold import TSNE\n",
        "\n",
        "\n",
        "intermediate_layer_model = models.Model(inputs=model.input,\n",
        "                                        outputs=model.get_layer('dense_6').output)\n",
        "\n",
        "tsne_eval_generator = test_datagen.flow_from_directory(DATASET_PATH,target_size=IMAGE_SIZE,\n",
        "                                                  batch_size=1,shuffle=True,seed=42,class_mode=\"categorical\")\n",
        "\n",
        "outputs = []\n",
        "labels = []\n",
        "for i in range(len(tsne_eval_generator)):\n",
        "  img, label = tsne_eval_generator[i]\n",
        "  labels.append(label)\n",
        "  cur = intermediate_layer_model(img)\n",
        "  outputs.append(np.squeeze(cur))\n",
        "\n",
        "features = np.array(outputs)\n",
        "labels = np.array(labels).astype('int32')\n",
        "\n",
        "# print(len(labels))\n",
        "\n",
        "# tsne = TSNE(n_components=2)\n",
        "# X_tsne = tsne.fit_transform(features)\n",
        "\n",
        "# LABEL_COLOR_MAP = {0: 'r', 1: 'b', 2: 'g', 3: 'o'}\n",
        "# label_color = [LABEL_COLOR_MAP[l[0]] for l in labels]\n",
        "\n",
        "# X = X_tsne[:,0]\n",
        "# Y = X_tsne[:,1]\n",
        "\n",
        "# plt.scatter(Y, X)\n",
        "# plt.show()"
      ],
      "metadata": {
        "colab": {
          "base_uri": "https://localhost:8080/"
        },
        "id": "9ecxwq-VQ1V7",
        "outputId": "d4388c08-f50c-4b26-8c20-9699173c2e32"
      },
      "execution_count": 45,
      "outputs": [
        {
          "output_type": "stream",
          "name": "stdout",
          "text": [
            "Found 270 images belonging to 4 classes.\n"
          ]
        }
      ]
    },
    {
      "cell_type": "code",
      "source": [
        "tsne = TSNE(n_components=2)\n",
        "X_tsne = tsne.fit_transform(features)\n",
        "\n",
        "X = X_tsne[:,0]\n",
        "Y = X_tsne[:,1]\n",
        "\n",
        "plt.scatter(X, Y)\n",
        "plt.show()"
      ],
      "metadata": {
        "colab": {
          "base_uri": "https://localhost:8080/",
          "height": 354
        },
        "id": "h56fpc69RcFc",
        "outputId": "6ef1f440-660b-41c5-f226-a0a01d01f66b"
      },
      "execution_count": 46,
      "outputs": [
        {
          "output_type": "stream",
          "name": "stderr",
          "text": [
            "/usr/local/lib/python3.7/dist-packages/sklearn/manifold/_t_sne.py:783: FutureWarning: The default initialization in TSNE will change from 'random' to 'pca' in 1.2.\n",
            "  FutureWarning,\n",
            "/usr/local/lib/python3.7/dist-packages/sklearn/manifold/_t_sne.py:793: FutureWarning: The default learning rate in TSNE will change from 200.0 to 'auto' in 1.2.\n",
            "  FutureWarning,\n"
          ]
        },
        {
          "output_type": "display_data",
          "data": {
            "text/plain": [
              "<Figure size 432x288 with 1 Axes>"
            ],
            "image/png": "[encoded data removed]"
          },
          "metadata": {
            "needs_background": "light"
          }
        }
      ]
    }
  ]
}