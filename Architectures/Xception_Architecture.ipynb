{
  "cells": [
    {
      "cell_type": "markdown",
      "metadata": {
        "id": "ApdITk8OgX9J"
      },
      "source": [
        "**Xception**"
      ]
    },
    {
      "cell_type": "code",
      "execution_count": 1,
      "metadata": {
        "colab": {
          "base_uri": "https://localhost:8080/"
        },
        "id": "gdh6dVlg82LL",
        "outputId": "14c1f05c-cae7-4ec8-fa84-62e67248603e"
      },
      "outputs": [
        {
          "name": "stdout",
          "output_type": "stream",
          "text": [
            "Mounted at /content/drive/\n"
          ]
        }
      ],
      "source": [
        "from google.colab import drive\n",
        "drive.mount('/content/drive/')"
      ]
    },
    {
      "cell_type": "code",
      "execution_count": 2,
      "metadata": {
        "colab": {
          "base_uri": "https://localhost:8080/",
          "height": 35
        },
        "id": "KNX2guzq8_dg",
        "outputId": "26b92966-55e2-468b-aaff-9ce7e87846b0"
      },
      "outputs": [
        {
          "data": {
            "application/vnd.google.colaboratory.intrinsic+json": {
              "type": "string"
            },
            "text/plain": [
              "'2.8.2'"
            ]
          },
          "execution_count": 2,
          "metadata": {},
          "output_type": "execute_result"
        }
      ],
      "source": [
        "import os\n",
        "\n",
        "import tensorflow as tf\n",
        "import numpy as np\n",
        "import matplotlib.pyplot as plt\n",
        "from tensorflow.keras.preprocessing.image import ImageDataGenerator\n",
        "\n",
        "#os.environ['OMP_NUM_THREADS'] = '1'\n",
        "#os.environ['CUDA_VISIBLE_DEVICES'] = '-1'\n",
        "tf.__version__"
      ]
    },
    {
      "cell_type": "code",
      "execution_count": 3,
      "metadata": {
        "id": "KXILno7Y9DTp"
      },
      "outputs": [],
      "source": [
        "DATA_LIST = os.listdir('drive/MyDrive/Covid_Data_GradientCrescent/all/train')\n",
        "DATASET_PATH  = 'drive/MyDrive/Covid_Data_GradientCrescent/all/train'\n",
        "TEST_DIR =  'drive/MyDrive/Covid_Data_GradientCrescent/all/test'\n",
        "IMAGE_SIZE    = (224, 224)\n",
        "NUM_CLASSES   = len(DATA_LIST)\n",
        "BATCH_SIZE    = 10  # try reducing batch size or freeze more layers if your GPU runs out of memory\n",
        "NUM_EPOCHS    = 100\n",
        "LEARNING_RATE = 0.0001 # start off with high rate first 0.001 and experiment with reducing it gradually "
      ]
    },
    {
      "cell_type": "code",
      "execution_count": 4,
      "metadata": {
        "colab": {
          "base_uri": "https://localhost:8080/"
        },
        "id": "KrGrcVpJ9G2x",
        "outputId": "6cd2fceb-7e0c-4d01-9909-927491a8a1be"
      },
      "outputs": [
        {
          "name": "stderr",
          "output_type": "stream",
          "text": [
            "/usr/local/lib/python3.7/dist-packages/keras_preprocessing/image/image_data_generator.py:342: UserWarning: This ImageDataGenerator specifies `zca_whitening` which overrides setting of`featurewise_std_normalization`.\n",
            "  warnings.warn('This ImageDataGenerator specifies '\n"
          ]
        },
        {
          "name": "stdout",
          "output_type": "stream",
          "text": [
            "Found 216 images belonging to 4 classes.\n",
            "Found 54 images belonging to 4 classes.\n"
          ]
        }
      ],
      "source": [
        "train_datagen = ImageDataGenerator(rescale=1./255,rotation_range=50,featurewise_center = True,\n",
        "                                   featurewise_std_normalization = True,width_shift_range=0.2,\n",
        "                                   height_shift_range=0.2,shear_range=0.25,zoom_range=0.1,\n",
        "                                   zca_whitening = True,channel_shift_range = 20,\n",
        "                                   horizontal_flip = True,vertical_flip = True,\n",
        "                                   validation_split = 0.2,fill_mode='constant')\n",
        "\n",
        "\n",
        "train_batches = train_datagen.flow_from_directory(DATASET_PATH,target_size=IMAGE_SIZE,\n",
        "                                                  shuffle=True,batch_size=BATCH_SIZE,\n",
        "                                                  subset = \"training\",seed=42,\n",
        "                                                  class_mode=\"categorical\")\n",
        "\n",
        "valid_batches = train_datagen.flow_from_directory(DATASET_PATH,target_size=IMAGE_SIZE,\n",
        "                                                  shuffle=True,batch_size=BATCH_SIZE,\n",
        "                                                  subset = \"validation\",\n",
        "                                                  seed=42,class_mode=\"categorical\")"
      ]
    },
    {
      "cell_type": "code",
      "execution_count": 10,
      "metadata": {
        "colab": {
          "base_uri": "https://localhost:8080/",
          "height": 104
        },
        "id": "nmwxBbk4f0nH",
        "outputId": "acb710c0-ef3d-4d0f-afa1-e80341bdfd8f"
      },
      "outputs": [
        {
          "name": "stdout",
          "output_type": "stream",
          "text": [
            "Downloading data from https://storage.googleapis.com/tensorflow/keras-applications/xception/xception_weights_tf_dim_ordering_tf_kernels_notop.h5\n",
            "83689472/83683744 [==============================] - 0s 0us/step\n",
            "83697664/83683744 [==============================] - 0s 0us/step\n"
          ]
        },
        {
          "data": {
            "application/vnd.google.colaboratory.intrinsic+json": {
              "type": "string"
            },
            "text/plain": [
              "\"\\nmodel = Sequential()\\nfor layer in xception_model.layers[:-4]:\\n    model.add(layer)\\nfor layer in model.layers:\\n    layer.trainable = False\\n\\nmodel.add(layers.Flatten())\\nmodel.add(layers.Dense(256, activation='relu'))\\nmodel.add(layers.Dense(4, activation='softmax'))\\n\\nmodel.summary()\\n\""
            ]
          },
          "execution_count": 10,
          "metadata": {},
          "output_type": "execute_result"
        }
      ],
      "source": [
        "from keras.applications.xception import Xception\n",
        "from tensorflow.keras import datasets, layers, models\n",
        "from keras.models import Model, Sequential\n",
        "\n",
        "\n",
        "inc_model = Xception(weights='imagenet', include_top=False)\n",
        "\n",
        "# get layers and add average pooling layer\n",
        "x = inc_model.output\n",
        "x = tf.keras.layers.GlobalAveragePooling2D()(x)\n",
        "\n",
        "# add fully-connected layer\n",
        "x = tf.keras.layers.Dense(256, activation='relu')(x)\n",
        "\n",
        "# add output layer\n",
        "predictions = tf.keras.layers.Dense(4, activation='softmax')(x)\n",
        "\n",
        "model = Model(inputs=inc_model.input, outputs=predictions)\n",
        "\n",
        "# freeze pre-trained model area's layer\n",
        "for layer in inc_model.layers:\n",
        "    layer.trainable = False\n",
        "\n",
        "# update the weight that are added\n",
        "model.compile(optimizer='adam', loss='categorical_crossentropy', metrics=['accuracy'])\n",
        "\n",
        "\"\"\"\n",
        "---\n",
        "\n",
        "xception_model = tf.keras.applications.Xception(\n",
        "    include_top=False,\n",
        "    weights=\"imagenet\",\n",
        "    input_tensor=None,\n",
        "    input_shape=(224, 224, 3),\n",
        "    pooling=None,\n",
        "    classes=1000,\n",
        "    classifier_activation=\"softmax\",\n",
        ")\n",
        "\n",
        "for layer in xception_model.layers[:-3]:\n",
        "    layer.trainable = False\n",
        "\n",
        "x = layers.Flatten()(xception_model)\n",
        "x = layers.Dense(1024, activation='relu')(x)\n",
        "x = layers.Dense(4, activation='softmax')(x)\n",
        "\n",
        "model = Model(xception_model.input, x)\n",
        "model.summary()\n",
        "\"\"\"\n",
        "\"\"\"\n",
        "model = Sequential()\n",
        "for layer in xception_model.layers[:-4]:\n",
        "    model.add(layer)\n",
        "for layer in model.layers:\n",
        "    layer.trainable = False\n",
        "\n",
        "model.add(layers.Flatten())\n",
        "model.add(layers.Dense(256, activation='relu'))\n",
        "model.add(layers.Dense(4, activation='softmax'))\n",
        "\n",
        "model.summary()\n",
        "\"\"\""
      ]
    },
    {
      "cell_type": "code",
      "execution_count": 11,
      "metadata": {
        "colab": {
          "base_uri": "https://localhost:8080/"
        },
        "id": "4TgkTiwu9RPy",
        "outputId": "c1c9ebb5-10ce-442b-b666-1706b74118a7"
      },
      "outputs": [
        {
          "name": "stdout",
          "output_type": "stream",
          "text": [
            "22\n",
            "6\n"
          ]
        },
        {
          "name": "stderr",
          "output_type": "stream",
          "text": [
            "/usr/local/lib/python3.7/dist-packages/keras_preprocessing/image/image_data_generator.py:720: UserWarning: This ImageDataGenerator specifies `featurewise_center`, but it hasn't been fit on any training data. Fit it first by calling `.fit(numpy_data)`.\n",
            "  warnings.warn('This ImageDataGenerator specifies '\n",
            "/usr/local/lib/python3.7/dist-packages/keras_preprocessing/image/image_data_generator.py:739: UserWarning: This ImageDataGenerator specifies `zca_whitening`, but it hasn't been fit on any training data. Fit it first by calling `.fit(numpy_data)`.\n",
            "  warnings.warn('This ImageDataGenerator specifies '\n"
          ]
        },
        {
          "name": "stdout",
          "output_type": "stream",
          "text": [
            "Epoch 1/100\n",
            "21/21 [==============================] - 12s 413ms/step - loss: 1.4817 - accuracy: 0.3641 - val_loss: 1.0602 - val_accuracy: 0.5000\n",
            "Epoch 2/100\n",
            "21/21 [==============================] - 9s 411ms/step - loss: 0.8908 - accuracy: 0.6359 - val_loss: 0.8091 - val_accuracy: 0.6000\n",
            "Epoch 3/100\n",
            "21/21 [==============================] - 8s 373ms/step - loss: 0.6908 - accuracy: 0.7087 - val_loss: 0.8005 - val_accuracy: 0.6400\n",
            "Epoch 4/100\n",
            "21/21 [==============================] - 8s 371ms/step - loss: 0.6730 - accuracy: 0.7039 - val_loss: 0.9000 - val_accuracy: 0.5600\n",
            "Epoch 5/100\n",
            "21/21 [==============================] - 8s 368ms/step - loss: 0.6850 - accuracy: 0.6942 - val_loss: 0.6943 - val_accuracy: 0.6200\n",
            "Epoch 6/100\n",
            "21/21 [==============================] - 8s 368ms/step - loss: 0.6816 - accuracy: 0.7233 - val_loss: 0.7331 - val_accuracy: 0.6800\n",
            "Epoch 7/100\n",
            "21/21 [==============================] - 8s 378ms/step - loss: 0.6646 - accuracy: 0.6942 - val_loss: 0.9120 - val_accuracy: 0.6000\n",
            "Epoch 8/100\n",
            "21/21 [==============================] - 9s 430ms/step - loss: 0.6045 - accuracy: 0.7573 - val_loss: 0.8978 - val_accuracy: 0.5800\n",
            "Epoch 9/100\n",
            "21/21 [==============================] - 8s 376ms/step - loss: 0.5448 - accuracy: 0.7718 - val_loss: 0.7350 - val_accuracy: 0.7200\n",
            "Epoch 10/100\n",
            "21/21 [==============================] - 8s 367ms/step - loss: 0.6148 - accuracy: 0.7427 - val_loss: 0.6391 - val_accuracy: 0.7200\n",
            "Epoch 11/100\n",
            "21/21 [==============================] - 8s 372ms/step - loss: 0.6067 - accuracy: 0.7282 - val_loss: 0.7678 - val_accuracy: 0.6600\n",
            "Epoch 12/100\n",
            "21/21 [==============================] - 8s 371ms/step - loss: 0.5627 - accuracy: 0.7621 - val_loss: 0.9496 - val_accuracy: 0.6200\n",
            "Epoch 13/100\n",
            "21/21 [==============================] - 8s 377ms/step - loss: 0.5822 - accuracy: 0.7476 - val_loss: 0.8896 - val_accuracy: 0.6000\n",
            "Epoch 14/100\n",
            "21/21 [==============================] - 8s 373ms/step - loss: 0.5170 - accuracy: 0.7524 - val_loss: 0.8325 - val_accuracy: 0.6400\n",
            "Epoch 15/100\n",
            "21/21 [==============================] - 8s 363ms/step - loss: 0.5563 - accuracy: 0.7864 - val_loss: 0.8619 - val_accuracy: 0.7000\n",
            "Epoch 16/100\n",
            "21/21 [==============================] - 8s 376ms/step - loss: 0.5820 - accuracy: 0.7913 - val_loss: 0.6921 - val_accuracy: 0.6600\n",
            "Epoch 17/100\n",
            "21/21 [==============================] - 8s 376ms/step - loss: 0.5427 - accuracy: 0.7621 - val_loss: 0.6409 - val_accuracy: 0.7800\n",
            "Epoch 18/100\n",
            "21/21 [==============================] - 8s 377ms/step - loss: 0.5699 - accuracy: 0.7913 - val_loss: 0.6290 - val_accuracy: 0.7000\n",
            "Epoch 19/100\n",
            "21/21 [==============================] - 8s 379ms/step - loss: 0.5785 - accuracy: 0.7670 - val_loss: 0.7182 - val_accuracy: 0.6800\n",
            "Epoch 20/100\n",
            "21/21 [==============================] - 9s 439ms/step - loss: 0.5305 - accuracy: 0.7621 - val_loss: 0.7862 - val_accuracy: 0.6400\n",
            "Epoch 21/100\n",
            "21/21 [==============================] - 8s 372ms/step - loss: 0.5203 - accuracy: 0.8107 - val_loss: 0.6755 - val_accuracy: 0.7000\n",
            "Epoch 22/100\n",
            "21/21 [==============================] - 8s 375ms/step - loss: 0.5178 - accuracy: 0.8010 - val_loss: 0.8020 - val_accuracy: 0.6000\n",
            "Epoch 23/100\n",
            "21/21 [==============================] - 8s 376ms/step - loss: 0.5372 - accuracy: 0.7670 - val_loss: 0.9741 - val_accuracy: 0.5800\n",
            "Epoch 24/100\n",
            "21/21 [==============================] - 8s 368ms/step - loss: 0.4437 - accuracy: 0.7864 - val_loss: 0.7254 - val_accuracy: 0.6600\n",
            "Epoch 25/100\n",
            "21/21 [==============================] - 8s 374ms/step - loss: 0.5525 - accuracy: 0.7864 - val_loss: 0.8965 - val_accuracy: 0.6200\n",
            "Epoch 26/100\n",
            "21/21 [==============================] - 8s 377ms/step - loss: 0.4938 - accuracy: 0.7816 - val_loss: 1.0695 - val_accuracy: 0.6000\n",
            "Epoch 27/100\n",
            "21/21 [==============================] - 8s 377ms/step - loss: 0.5508 - accuracy: 0.7621 - val_loss: 0.8221 - val_accuracy: 0.6000\n",
            "Epoch 28/100\n",
            "21/21 [==============================] - 8s 381ms/step - loss: 0.4694 - accuracy: 0.7864 - val_loss: 0.8824 - val_accuracy: 0.5800\n",
            "Epoch 29/100\n",
            "21/21 [==============================] - 8s 367ms/step - loss: 0.5250 - accuracy: 0.7913 - val_loss: 0.7529 - val_accuracy: 0.6800\n",
            "Epoch 30/100\n",
            "21/21 [==============================] - 8s 378ms/step - loss: 0.4899 - accuracy: 0.8107 - val_loss: 0.6029 - val_accuracy: 0.6800\n",
            "Epoch 31/100\n",
            "21/21 [==============================] - 8s 365ms/step - loss: 0.4497 - accuracy: 0.8204 - val_loss: 0.5362 - val_accuracy: 0.7600\n",
            "Epoch 32/100\n",
            "21/21 [==============================] - 9s 437ms/step - loss: 0.5711 - accuracy: 0.7573 - val_loss: 0.7095 - val_accuracy: 0.6600\n",
            "Epoch 33/100\n",
            "21/21 [==============================] - 8s 366ms/step - loss: 0.4976 - accuracy: 0.7718 - val_loss: 0.8501 - val_accuracy: 0.6400\n",
            "Epoch 34/100\n",
            "21/21 [==============================] - 8s 371ms/step - loss: 0.4837 - accuracy: 0.7767 - val_loss: 0.9196 - val_accuracy: 0.6600\n",
            "Epoch 35/100\n",
            "21/21 [==============================] - 8s 369ms/step - loss: 0.5420 - accuracy: 0.7718 - val_loss: 0.7642 - val_accuracy: 0.6400\n",
            "Epoch 36/100\n",
            "21/21 [==============================] - 8s 369ms/step - loss: 0.4518 - accuracy: 0.8301 - val_loss: 0.6195 - val_accuracy: 0.7200\n",
            "Epoch 37/100\n",
            "21/21 [==============================] - 8s 369ms/step - loss: 0.4700 - accuracy: 0.7913 - val_loss: 0.7738 - val_accuracy: 0.5800\n",
            "Epoch 38/100\n",
            "21/21 [==============================] - 8s 371ms/step - loss: 0.4728 - accuracy: 0.8252 - val_loss: 0.7174 - val_accuracy: 0.7200\n",
            "Epoch 39/100\n",
            "21/21 [==============================] - 8s 364ms/step - loss: 0.5158 - accuracy: 0.7621 - val_loss: 0.6572 - val_accuracy: 0.7000\n",
            "Epoch 40/100\n",
            "21/21 [==============================] - 8s 365ms/step - loss: 0.3790 - accuracy: 0.8689 - val_loss: 0.5833 - val_accuracy: 0.7400\n",
            "Epoch 41/100\n",
            "21/21 [==============================] - 8s 369ms/step - loss: 0.4005 - accuracy: 0.8301 - val_loss: 0.5982 - val_accuracy: 0.6800\n",
            "Epoch 42/100\n",
            "21/21 [==============================] - 8s 374ms/step - loss: 0.4721 - accuracy: 0.7961 - val_loss: 0.7316 - val_accuracy: 0.7200\n",
            "Epoch 43/100\n",
            "21/21 [==============================] - 9s 430ms/step - loss: 0.5080 - accuracy: 0.7913 - val_loss: 0.8228 - val_accuracy: 0.6400\n",
            "Epoch 44/100\n",
            "21/21 [==============================] - 8s 367ms/step - loss: 0.4808 - accuracy: 0.8107 - val_loss: 1.0298 - val_accuracy: 0.5800\n",
            "Epoch 45/100\n",
            "21/21 [==============================] - 8s 367ms/step - loss: 0.5459 - accuracy: 0.7379 - val_loss: 0.7291 - val_accuracy: 0.7200\n",
            "Epoch 46/100\n",
            "21/21 [==============================] - 8s 366ms/step - loss: 0.3690 - accuracy: 0.8301 - val_loss: 0.7237 - val_accuracy: 0.7200\n",
            "Epoch 47/100\n",
            "21/21 [==============================] - 8s 372ms/step - loss: 0.5074 - accuracy: 0.8010 - val_loss: 0.8912 - val_accuracy: 0.6200\n",
            "Epoch 48/100\n",
            "21/21 [==============================] - 8s 371ms/step - loss: 0.4487 - accuracy: 0.7961 - val_loss: 0.7744 - val_accuracy: 0.6000\n",
            "Epoch 49/100\n",
            "21/21 [==============================] - 8s 366ms/step - loss: 0.4844 - accuracy: 0.7913 - val_loss: 0.7073 - val_accuracy: 0.7000\n",
            "Epoch 50/100\n",
            "21/21 [==============================] - 8s 375ms/step - loss: 0.3886 - accuracy: 0.8544 - val_loss: 0.8519 - val_accuracy: 0.6400\n",
            "Epoch 51/100\n",
            "21/21 [==============================] - 8s 368ms/step - loss: 0.3966 - accuracy: 0.8058 - val_loss: 0.6354 - val_accuracy: 0.7200\n",
            "Epoch 52/100\n",
            "21/21 [==============================] - 8s 362ms/step - loss: 0.4353 - accuracy: 0.8155 - val_loss: 0.8142 - val_accuracy: 0.7200\n",
            "Epoch 53/100\n",
            "21/21 [==============================] - 8s 377ms/step - loss: 0.5234 - accuracy: 0.7913 - val_loss: 0.6344 - val_accuracy: 0.8000\n",
            "Epoch 54/100\n",
            "21/21 [==============================] - 9s 438ms/step - loss: 0.4257 - accuracy: 0.8107 - val_loss: 0.7358 - val_accuracy: 0.7000\n",
            "Epoch 55/100\n",
            "21/21 [==============================] - 8s 367ms/step - loss: 0.3423 - accuracy: 0.8544 - val_loss: 0.6658 - val_accuracy: 0.6800\n",
            "Epoch 56/100\n",
            "21/21 [==============================] - 8s 367ms/step - loss: 0.4378 - accuracy: 0.7524 - val_loss: 0.6373 - val_accuracy: 0.6800\n",
            "Epoch 57/100\n",
            "21/21 [==============================] - 8s 378ms/step - loss: 0.4787 - accuracy: 0.8190 - val_loss: 0.7895 - val_accuracy: 0.6800\n",
            "Epoch 58/100\n",
            "21/21 [==============================] - 8s 370ms/step - loss: 0.4583 - accuracy: 0.8107 - val_loss: 0.6773 - val_accuracy: 0.6800\n",
            "Epoch 59/100\n",
            "21/21 [==============================] - 8s 363ms/step - loss: 0.4060 - accuracy: 0.8155 - val_loss: 0.7558 - val_accuracy: 0.6800\n",
            "Epoch 60/100\n",
            "21/21 [==============================] - 8s 378ms/step - loss: 0.4301 - accuracy: 0.7816 - val_loss: 0.5607 - val_accuracy: 0.7200\n",
            "Epoch 61/100\n",
            "21/21 [==============================] - 8s 361ms/step - loss: 0.4057 - accuracy: 0.8398 - val_loss: 0.6093 - val_accuracy: 0.7200\n",
            "Epoch 62/100\n",
            "21/21 [==============================] - 8s 360ms/step - loss: 0.3554 - accuracy: 0.8592 - val_loss: 0.8462 - val_accuracy: 0.6400\n",
            "Epoch 63/100\n",
            "21/21 [==============================] - 8s 372ms/step - loss: 0.4241 - accuracy: 0.8286 - val_loss: 0.6254 - val_accuracy: 0.7800\n",
            "Epoch 64/100\n",
            "21/21 [==============================] - 8s 367ms/step - loss: 0.4546 - accuracy: 0.8058 - val_loss: 1.0846 - val_accuracy: 0.5800\n",
            "Epoch 65/100\n",
            "21/21 [==============================] - 8s 368ms/step - loss: 0.4687 - accuracy: 0.7718 - val_loss: 0.8719 - val_accuracy: 0.6600\n",
            "Epoch 66/100\n",
            "21/21 [==============================] - 9s 434ms/step - loss: 0.3819 - accuracy: 0.8398 - val_loss: 0.6848 - val_accuracy: 0.7200\n",
            "Epoch 67/100\n",
            "21/21 [==============================] - 8s 368ms/step - loss: 0.3844 - accuracy: 0.8204 - val_loss: 0.5043 - val_accuracy: 0.7800\n",
            "Epoch 68/100\n",
            "21/21 [==============================] - 8s 365ms/step - loss: 0.4418 - accuracy: 0.8155 - val_loss: 0.6139 - val_accuracy: 0.7400\n",
            "Epoch 69/100\n",
            "21/21 [==============================] - 8s 368ms/step - loss: 0.4780 - accuracy: 0.8058 - val_loss: 0.7372 - val_accuracy: 0.6800\n",
            "Epoch 70/100\n",
            "21/21 [==============================] - 8s 370ms/step - loss: 0.3807 - accuracy: 0.8495 - val_loss: 0.6635 - val_accuracy: 0.6600\n",
            "Epoch 71/100\n",
            "21/21 [==============================] - 8s 372ms/step - loss: 0.3760 - accuracy: 0.8301 - val_loss: 0.5482 - val_accuracy: 0.7800\n",
            "Epoch 72/100\n",
            "21/21 [==============================] - 8s 368ms/step - loss: 0.3313 - accuracy: 0.8641 - val_loss: 0.6843 - val_accuracy: 0.7600\n",
            "Epoch 73/100\n",
            "21/21 [==============================] - 8s 375ms/step - loss: 0.3485 - accuracy: 0.8447 - val_loss: 0.7203 - val_accuracy: 0.6800\n",
            "Epoch 74/100\n",
            "21/21 [==============================] - 8s 373ms/step - loss: 0.4039 - accuracy: 0.8495 - val_loss: 0.7072 - val_accuracy: 0.7200\n",
            "Epoch 75/100\n",
            "21/21 [==============================] - 8s 369ms/step - loss: 0.4112 - accuracy: 0.8398 - val_loss: 0.7223 - val_accuracy: 0.6400\n",
            "Epoch 76/100\n",
            "21/21 [==============================] - 8s 371ms/step - loss: 0.3674 - accuracy: 0.8592 - val_loss: 0.9806 - val_accuracy: 0.5600\n",
            "Epoch 77/100\n",
            "21/21 [==============================] - 8s 392ms/step - loss: 0.3307 - accuracy: 0.8641 - val_loss: 0.6149 - val_accuracy: 0.7000\n",
            "Epoch 78/100\n",
            "21/21 [==============================] - 8s 401ms/step - loss: 0.4291 - accuracy: 0.8058 - val_loss: 0.6594 - val_accuracy: 0.7400\n",
            "Epoch 79/100\n",
            "21/21 [==============================] - 8s 373ms/step - loss: 0.4693 - accuracy: 0.7816 - val_loss: 0.9888 - val_accuracy: 0.6600\n",
            "Epoch 80/100\n",
            "21/21 [==============================] - 8s 372ms/step - loss: 0.4039 - accuracy: 0.8350 - val_loss: 0.6953 - val_accuracy: 0.7800\n",
            "Epoch 81/100\n",
            "21/21 [==============================] - 8s 368ms/step - loss: 0.3565 - accuracy: 0.8398 - val_loss: 0.6015 - val_accuracy: 0.7400\n",
            "Epoch 82/100\n",
            "21/21 [==============================] - 8s 371ms/step - loss: 0.3447 - accuracy: 0.8350 - val_loss: 0.8297 - val_accuracy: 0.6400\n",
            "Epoch 83/100\n",
            "21/21 [==============================] - 8s 369ms/step - loss: 0.3898 - accuracy: 0.8447 - val_loss: 0.6876 - val_accuracy: 0.6600\n",
            "Epoch 84/100\n",
            "21/21 [==============================] - 8s 366ms/step - loss: 0.3646 - accuracy: 0.8398 - val_loss: 0.5398 - val_accuracy: 0.7600\n",
            "Epoch 85/100\n",
            "21/21 [==============================] - 8s 369ms/step - loss: 0.3486 - accuracy: 0.8447 - val_loss: 0.7262 - val_accuracy: 0.7000\n",
            "Epoch 86/100\n",
            "21/21 [==============================] - 8s 371ms/step - loss: 0.3698 - accuracy: 0.8350 - val_loss: 0.6230 - val_accuracy: 0.7200\n",
            "Epoch 87/100\n",
            "21/21 [==============================] - 8s 378ms/step - loss: 0.3838 - accuracy: 0.8252 - val_loss: 0.8269 - val_accuracy: 0.6200\n",
            "Epoch 88/100\n",
            "21/21 [==============================] - 8s 369ms/step - loss: 0.3278 - accuracy: 0.8544 - val_loss: 0.6781 - val_accuracy: 0.7200\n",
            "Epoch 89/100\n",
            "21/21 [==============================] - 9s 431ms/step - loss: 0.3671 - accuracy: 0.8544 - val_loss: 0.7522 - val_accuracy: 0.7400\n",
            "Epoch 90/100\n",
            "21/21 [==============================] - 8s 374ms/step - loss: 0.3198 - accuracy: 0.8641 - val_loss: 0.6028 - val_accuracy: 0.6800\n",
            "Epoch 91/100\n",
            "21/21 [==============================] - 8s 376ms/step - loss: 0.4464 - accuracy: 0.7913 - val_loss: 0.8028 - val_accuracy: 0.7200\n",
            "Epoch 92/100\n",
            "21/21 [==============================] - 8s 370ms/step - loss: 0.3557 - accuracy: 0.8301 - val_loss: 0.6317 - val_accuracy: 0.7200\n",
            "Epoch 93/100\n",
            "21/21 [==============================] - 8s 370ms/step - loss: 0.3692 - accuracy: 0.8301 - val_loss: 0.6672 - val_accuracy: 0.6600\n",
            "Epoch 94/100\n",
            "21/21 [==============================] - 8s 372ms/step - loss: 0.3400 - accuracy: 0.8592 - val_loss: 0.6395 - val_accuracy: 0.6800\n",
            "Epoch 95/100\n",
            "21/21 [==============================] - 8s 375ms/step - loss: 0.3743 - accuracy: 0.8524 - val_loss: 0.6407 - val_accuracy: 0.7200\n",
            "Epoch 96/100\n",
            "21/21 [==============================] - 8s 369ms/step - loss: 0.3816 - accuracy: 0.8252 - val_loss: 0.8435 - val_accuracy: 0.6800\n",
            "Epoch 97/100\n",
            "21/21 [==============================] - 8s 366ms/step - loss: 0.4042 - accuracy: 0.8010 - val_loss: 0.7126 - val_accuracy: 0.6800\n",
            "Epoch 98/100\n",
            "21/21 [==============================] - 8s 372ms/step - loss: 0.3872 - accuracy: 0.8204 - val_loss: 0.6710 - val_accuracy: 0.6600\n",
            "Epoch 99/100\n",
            "21/21 [==============================] - 8s 377ms/step - loss: 0.3901 - accuracy: 0.8058 - val_loss: 0.8824 - val_accuracy: 0.7200\n",
            "Epoch 100/100\n",
            "21/21 [==============================] - 8s 372ms/step - loss: 0.4030 - accuracy: 0.8107 - val_loss: 0.8493 - val_accuracy: 0.6000\n"
          ]
        }
      ],
      "source": [
        "model.compile(optimizer='adam',\n",
        "                loss=tf.keras.losses.CategoricalCrossentropy(),\n",
        "                metrics=['accuracy'])\n",
        "\n",
        "#FIT MODEL\n",
        "print(len(train_batches))\n",
        "print(len(valid_batches))\n",
        "\n",
        "STEP_SIZE_TRAIN=train_batches.n//train_batches.batch_size\n",
        "STEP_SIZE_VALID=valid_batches.n//valid_batches.batch_size\n",
        "\n",
        "#raise NotImplementedError(\"Use the model.fit function to train your network\")\n",
        "history = model.fit(x=train_batches, epochs=NUM_EPOCHS, steps_per_epoch=STEP_SIZE_TRAIN, \n",
        "           validation_data=valid_batches, validation_steps=STEP_SIZE_VALID)"
      ]
    },
    {
      "cell_type": "code",
      "execution_count": 13,
      "metadata": {
        "colab": {
          "base_uri": "https://localhost:8080/",
          "height": 312
        },
        "id": "eKNJuRL6GHhP",
        "outputId": "d6d096a5-0683-4979-ad18-303e7807791e"
      },
      "outputs": [
        {
          "data": {
            "text/plain": [
              "<matplotlib.legend.Legend at 0x7fec4da4c710>"
            ]
          },
          "execution_count": 13,
          "metadata": {},
          "output_type": "execute_result"
        },
        {
          "data": {
            "image/png": "[encoded data removed]",
            "text/plain": [
              "<Figure size 432x288 with 1 Axes>"
            ]
          },
          "metadata": {
            "needs_background": "light"
          },
          "output_type": "display_data"
        }
      ],
      "source": [
        "import matplotlib.pyplot as plt\n",
        "\n",
        "plt.plot(history.history['accuracy'], label='training accuracy')\n",
        "plt.plot(history.history['val_accuracy'], label = 'validation accuracy')\n",
        "plt.xlabel('Epoch')\n",
        "plt.ylabel('Accuracy')\n",
        "plt.title(\"Accuracy over 100 Epochs\")\n",
        "plt.legend(loc='lower right')"
      ]
    },
    {
      "cell_type": "code",
      "execution_count": 14,
      "metadata": {
        "colab": {
          "base_uri": "https://localhost:8080/",
          "height": 312
        },
        "id": "VxGgA_uoGLTy",
        "outputId": "5fb4ba39-cea0-4513-bd5a-2f7b7c678e36"
      },
      "outputs": [
        {
          "data": {
            "text/plain": [
              "<matplotlib.legend.Legend at 0x7fec4da6ffd0>"
            ]
          },
          "execution_count": 14,
          "metadata": {},
          "output_type": "execute_result"
        },
        {
          "data": {
            "image/png": "[encoded data removed]",
            "text/plain": [
              "<Figure size 432x288 with 1 Axes>"
            ]
          },
          "metadata": {
            "needs_background": "light"
          },
          "output_type": "display_data"
        }
      ],
      "source": [
        "plt.plot(history.history['loss'], label='training loss')\n",
        "plt.plot(history.history['val_loss'], label = 'validation loss')\n",
        "plt.xlabel('Epoch')\n",
        "plt.ylabel('Loss')\n",
        "plt.title(\"Loss over 100 Epochs\")\n",
        "plt.legend(loc='lower right')"
      ]
    },
    {
      "cell_type": "code",
      "execution_count": 12,
      "metadata": {
        "colab": {
          "base_uri": "https://localhost:8080/"
        },
        "id": "Yeu8ea9eC7-9",
        "outputId": "c52b46c8-6968-408f-b1b0-b7581a8db204"
      },
      "outputs": [
        {
          "name": "stdout",
          "output_type": "stream",
          "text": [
            "Found 36 images belonging to 4 classes.\n",
            "36\n"
          ]
        },
        {
          "name": "stderr",
          "output_type": "stream",
          "text": [
            "/usr/local/lib/python3.7/dist-packages/ipykernel_launcher.py:8: UserWarning: `Model.evaluate_generator` is deprecated and will be removed in a future version. Please use `Model.evaluate`, which supports generators.\n",
            "  \n"
          ]
        },
        {
          "name": "stdout",
          "output_type": "stream",
          "text": [
            "36/36 [==============================] - 2s 42ms/step - loss: 0.7349 - accuracy: 0.7222\n",
            "Test loss: 0.7348639965057373\n",
            "Test accuracy: 0.7222222089767456\n"
          ]
        }
      ],
      "source": [
        "test_datagen = ImageDataGenerator(rescale=1. / 255)\n",
        "\n",
        "eval_generator = test_datagen.flow_from_directory(TEST_DIR,target_size=IMAGE_SIZE,\n",
        "                                                  batch_size=1,shuffle=True,seed=42,class_mode=\"categorical\")\n",
        "eval_generator.reset()\n",
        "print(len(eval_generator))\n",
        "x = model.evaluate_generator(eval_generator,steps = np.ceil(len(eval_generator)),\n",
        "                           use_multiprocessing = False,verbose = 1,workers=1)\n",
        "print('Test loss:' , x[0])\n",
        "print('Test accuracy:',x[1])"
      ]
    }
  ],
  "metadata": {
    "accelerator": "GPU",
    "colab": {
      "collapsed_sections": [],
      "name": "ChestX-Ray_Classification-AlexNet_Architecture.ipynb",
      "provenance": []
    },
    "gpuClass": "standard",
    "kernelspec": {
      "display_name": "Python 3.9.2 64-bit",
      "language": "python",
      "name": "python3"
    },
    "language_info": {
      "name": "python",
      "version": "3.9.2"
    },
    "vscode": {
      "interpreter": {
        "hash": "93c3a718b4c6642ce4c45cce76395d725a388a32f575fa81b43fa67ce89bca37"
      }
    }
  },
  "nbformat": 4,
  "nbformat_minor": 0
}
